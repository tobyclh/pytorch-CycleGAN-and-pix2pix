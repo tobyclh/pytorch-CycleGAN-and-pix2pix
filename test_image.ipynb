{
 "cells": [
  {
   "cell_type": "code",
   "execution_count": 5,
   "metadata": {},
   "outputs": [],
   "source": [
    "import os\n",
    "from options.test_options import TestOptions\n",
    "from data import CreateDataLoader\n",
    "from models import create_model\n",
    "from util.visualizer import Visualizer\n",
    "from util import html\n",
    "import torch\n",
    "from models.cycle_gan_model import CycleGANModel\n",
    "import matplotlib.pyplot as plt"
   ]
  },
  {
   "cell_type": "code",
   "execution_count": 6,
   "metadata": {},
   "outputs": [
    {
     "name": "stdout",
     "output_type": "stream",
     "text": [
      "------------ Options -------------\n",
      "aspect_ratio: 1.0\n",
      "batchSize: 1\n",
      "checkpoints_dir: ./checkpoints\n",
      "dataroot: None\n",
      "dataset_mode: unaligned\n",
      "display_id: 1\n",
      "display_port: 8097\n",
      "display_server: http://localhost\n",
      "display_winsize: 256\n",
      "fineSize: 256\n",
      "gpu_ids: [0]\n",
      "how_many: 50\n",
      "init_type: normal\n",
      "input_nc: 3\n",
      "isTrain: False\n",
      "loadSize: 286\n",
      "max_dataset_size: inf\n",
      "model: cycle_gan\n",
      "nThreads: 4\n",
      "n_layers_D: 3\n",
      "name: experiment_name\n",
      "ndf: 64\n",
      "ngf: 64\n",
      "no_dropout: False\n",
      "no_flip: False\n",
      "norm: instance\n",
      "ntest: inf\n",
      "output_nc: 3\n",
      "phase: test\n",
      "resize_or_crop: resize_and_crop\n",
      "results_dir: ./results/\n",
      "serial_batches: False\n",
      "suffix: \n",
      "verbose: False\n",
      "which_direction: AtoB\n",
      "which_epoch: latest\n",
      "which_model_netD: basic\n",
      "which_model_netG: resnet_9blocks\n",
      "-------------- End ----------------\n",
      "CustomDatasetDataLoader\n",
      "dataset [SingleImageDataset] was created\n",
      "---------- Networks initialized -------------\n",
      "[Network G] Total number of parameters : 11.378 M\n",
      "-----------------------------------------------\n",
      "model [TestModel] was created\n"
     ]
    }
   ],
   "source": [
    "opt = TestOptions().parse()\n",
    "opt.dataroot = 'datasets/horse2zebra/testA'\n",
    "opt.checkpoints_dir = './checkpoints/'\n",
    "opt.name = 'horse2zebra_pretrained'\n",
    "opt.no_dropout = True\n",
    "opt.model = 'test'\n",
    "opt.dataset_mode = 'single'\n",
    "opt.loadSize = 256\n",
    "opt.nThreads = 1   # test code only supports nThreads = 1\n",
    "opt.batchSize = 1  # test code only supports batchSize = 1\n",
    "opt.serial_batches = True  # no shuffle\n",
    "opt.no_flip = True  # no flip\n",
    "opt.display_id = -1  # no visdom display\n",
    "data_loader = CreateDataLoader(opt)\n",
    "dataset = data_loader.load_data()\n",
    "model = create_model(opt)"
   ]
  },
  {
   "cell_type": "code",
   "execution_count": 7,
   "metadata": {},
   "outputs": [],
   "source": [
    "dick = torch.load('/home/toby/Documents/pytorch-CycleGAN-and-pix2pix/checkpoints/horse2zebra_pretrained/latest_net_G.pth')\n",
    "#for key, value in dick.items():\n",
    "#    print(key)"
   ]
  },
  {
   "cell_type": "code",
   "execution_count": 4,
   "metadata": {},
   "outputs": [
    {
     "ename": "ValueError",
     "evalue": "invalid literal for int() with base 10: 'down'",
     "output_type": "error",
     "traceback": [
      "\u001b[0;31m---------------------------------------------------------------------------\u001b[0m",
      "\u001b[0;31mValueError\u001b[0m                                Traceback (most recent call last)",
      "\u001b[0;32m<ipython-input-4-1c830259db70>\u001b[0m in \u001b[0;36m<module>\u001b[0;34m()\u001b[0m\n\u001b[1;32m      7\u001b[0m     \u001b[0;32melse\u001b[0m\u001b[0;34m:\u001b[0m\u001b[0;34m\u001b[0m\u001b[0m\n\u001b[1;32m      8\u001b[0m         \u001b[0mnew_key\u001b[0m \u001b[0;34m=\u001b[0m \u001b[0;34m'module.up'\u001b[0m\u001b[0;34m\u001b[0m\u001b[0m\n\u001b[0;32m----> 9\u001b[0;31m         \u001b[0mnew_key\u001b[0m \u001b[0;34m+=\u001b[0m \u001b[0;34m'.'\u001b[0m \u001b[0;34m+\u001b[0m \u001b[0mstr\u001b[0m\u001b[0;34m(\u001b[0m\u001b[0mint\u001b[0m\u001b[0;34m(\u001b[0m\u001b[0mnames\u001b[0m\u001b[0;34m[\u001b[0m\u001b[0;36m1\u001b[0m\u001b[0;34m]\u001b[0m\u001b[0;34m)\u001b[0m \u001b[0;34m-\u001b[0m \u001b[0;36m10\u001b[0m\u001b[0;34m)\u001b[0m\u001b[0;34m\u001b[0m\u001b[0m\n\u001b[0m\u001b[1;32m     10\u001b[0m         \u001b[0;32mfor\u001b[0m \u001b[0mname\u001b[0m \u001b[0;32min\u001b[0m \u001b[0mnames\u001b[0m\u001b[0;34m[\u001b[0m\u001b[0;36m2\u001b[0m\u001b[0;34m:\u001b[0m\u001b[0;34m]\u001b[0m\u001b[0;34m:\u001b[0m\u001b[0;34m\u001b[0m\u001b[0m\n\u001b[1;32m     11\u001b[0m             \u001b[0mnew_key\u001b[0m \u001b[0;34m+=\u001b[0m \u001b[0;34m'.'\u001b[0m \u001b[0;34m+\u001b[0m \u001b[0mname\u001b[0m\u001b[0;34m\u001b[0m\u001b[0m\n",
      "\u001b[0;31mValueError\u001b[0m: invalid literal for int() with base 10: 'down'"
     ]
    }
   ],
   "source": [
    "from collections import OrderedDict\n",
    "new_dict = OrderedDict()\n",
    "for key, value in dick.items():\n",
    "    names = key.split('.')\n",
    "    if len(names) == 3 and int(names[1]) < 10:\n",
    "        new_key = 'module.' + key.replace('model', 'down')\n",
    "    else:\n",
    "        new_key = 'module.up'\n",
    "        new_key += '.' + str(int(names[1]) - 10)\n",
    "        for name in names[2:]:\n",
    "            new_key += '.' + name\n",
    "    new_dict[new_key] = value\n",
    "    #print(new_key)\n",
    "#torch.save(new_dict, './checkpoints/horse2zebra_pretrained/updated_net_G.pth')"
   ]
  },
  {
   "cell_type": "code",
   "execution_count": null,
   "metadata": {},
   "outputs": [],
   "source": [
    "#for k in model.netG.state_dict().keys():\n",
    "#    print(k)\n",
    "model.netG.load_state_dict(new_dict)"
   ]
  },
  {
   "cell_type": "code",
   "execution_count": 9,
   "metadata": {},
   "outputs": [],
   "source": [
    "data_iter = iter(data_loader)\n",
    "data = next(data_iter)\n",
    "result = model.netG(data['A'],cache=True)\n"
   ]
  },
  {
   "cell_type": "code",
   "execution_count": 10,
   "metadata": {},
   "outputs": [
    {
     "data": {
      "text/plain": [
       "torch.Size([1, 256, 64, 64])"
      ]
     },
     "execution_count": 10,
     "metadata": {},
     "output_type": "execute_result"
    }
   ],
   "source": [
    "model.netG.module.intermediate.shape\n"
   ]
  },
  {
   "cell_type": "code",
   "execution_count": null,
   "metadata": {},
   "outputs": [],
   "source": []
  }
 ],
 "metadata": {
  "kernelspec": {
   "display_name": "Python 3",
   "language": "python",
   "name": "python3"
  },
  "language_info": {
   "codemirror_mode": {
    "name": "ipython",
    "version": 3
   },
   "file_extension": ".py",
   "mimetype": "text/x-python",
   "name": "python",
   "nbconvert_exporter": "python",
   "pygments_lexer": "ipython3",
   "version": "3.6.4"
  }
 },
 "nbformat": 4,
 "nbformat_minor": 2
}
