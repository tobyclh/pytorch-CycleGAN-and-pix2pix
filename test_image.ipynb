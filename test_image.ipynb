{
 "cells": [
  {
   "cell_type": "code",
   "execution_count": 1,
   "metadata": {},
   "outputs": [],
   "source": [
    "import os\n",
    "from options.test_options import TestOptions\n",
    "from data import CreateDataLoader\n",
    "from models import create_model\n",
    "from util.visualizer import Visualizer\n",
    "from util import html\n",
    "import torch\n",
    "from models.cycle_gan_model import CycleGANModel\n",
    "import matplotlib.pyplot as plt\n",
    "from torchsummary import summary"
   ]
  },
  {
   "cell_type": "code",
   "execution_count": null,
   "metadata": {},
   "outputs": [
    {
     "name": "stdout",
     "output_type": "stream",
     "text": [
      "------------ Options -------------\n",
      "aspect_ratio: 1.0\n",
      "batchSize: 1\n",
      "checkpoints_dir: ./checkpoints\n",
      "dataroot: None\n",
      "dataset_mode: unaligned\n",
      "display_id: 1\n",
      "display_port: 8097\n",
      "display_server: http://localhost\n",
      "display_winsize: 256\n",
      "fineSize: 256\n",
      "gpu_ids: [0]\n",
      "how_many: 50\n",
      "init_type: normal\n",
      "input_nc: 3\n",
      "isTrain: False\n",
      "loadSize: 286\n",
      "max_dataset_size: inf\n",
      "model: cycle_gan\n",
      "nThreads: 4\n",
      "n_layers_D: 3\n",
      "name: experiment_name\n",
      "ndf: 64\n",
      "ngf: 64\n",
      "no_dropout: False\n",
      "no_flip: False\n",
      "norm: instance\n",
      "ntest: inf\n",
      "output_nc: 3\n",
      "phase: test\n",
      "resize_or_crop: resize_and_crop\n",
      "results_dir: ./results/\n",
      "serial_batches: False\n",
      "suffix: \n",
      "verbose: False\n",
      "which_direction: AtoB\n",
      "which_epoch: latest\n",
      "which_model_netD: basic\n",
      "which_model_netG: resnet_9blocks\n",
      "-------------- End ----------------\n",
      "CustomDatasetDataLoader\n",
      "dataset [SingleImageDataset] was created\n"
     ]
    }
   ],
   "source": [
    "opt = TestOptions().parse()\n",
    "opt.dataroot = 'datasets/horse2zebra/testA'\n",
    "opt.checkpoints_dir = './checkpoints/'\n",
    "opt.name = 'horse2zebra_pretrained'\n",
    "opt.no_dropout = True\n",
    "opt.model = 'test'\n",
    "opt.dataset_mode = 'single'\n",
    "opt.loadSize = 256\n",
    "opt.nThreads = 1   # test code only supports nThreads = 1\n",
    "opt.batchSize = 1  # test code only supports batchSize = 1\n",
    "opt.serial_batches = True  # no shuffle\n",
    "opt.no_flip = True  # no flip\n",
    "opt.display_id = -1  # no visdom display\n",
    "data_loader = CreateDataLoader(opt)\n",
    "dataset = data_loader.load_data()\n",
    "model = create_model(opt)"
   ]
  },
  {
   "cell_type": "code",
   "execution_count": null,
   "metadata": {},
   "outputs": [],
   "source": [
    "dick = torch.load('/home/toby/Documents/pytorch-CycleGAN-and-pix2pix/checkpoints/yosemite_cyclegan/latest_net_G_A.pth')\n",
    "\n",
    "for key, value in dick.items():\n",
    "    print(key)"
   ]
  },
  {
   "cell_type": "code",
   "execution_count": null,
   "metadata": {},
   "outputs": [],
   "source": [
    "from collections import OrderedDict\n",
    "new_dict = OrderedDict()\n",
    "for key, value in dick.items():\n",
    "    names = key.split('.')\n",
    "    if len(names) == 3 and int(names[1]) < 10:\n",
    "        new_key = 'module.' + key.replace('model', 'down')\n",
    "    else:\n",
    "        new_key = 'module.up'\n",
    "        new_key += '.' + str(int(names[1]) - 10)\n",
    "        for name in names[2:]:\n",
    "            new_key += '.' + name\n",
    "    new_dict[new_key] = value\n",
    "    #print(new_key)\n",
    "#torch.save(new_dict, './checkpoints/horse2zebra_pretrained/updated_net_G.pth')"
   ]
  },
  {
   "cell_type": "code",
   "execution_count": null,
   "metadata": {},
   "outputs": [],
   "source": [
    "for k in model.netG.state_dict().keys():\n",
    "    print(k)\n",
    "model.netG.module.load_state_dict(dick)"
   ]
  },
  {
   "cell_type": "code",
   "execution_count": null,
   "metadata": {},
   "outputs": [],
   "source": [
    "data_iter = iter(data_loader)\n",
    "data = next(data_iter)\n",
    "result = model.netG(data['A'],cache=True)"
   ]
  },
  {
   "cell_type": "code",
   "execution_count": null,
   "metadata": {},
   "outputs": [],
   "source": [
    "model.netG.module.intermediate.shape\n",
    "data['A'].shape"
   ]
  },
  {
   "cell_type": "code",
   "execution_count": null,
   "metadata": {},
   "outputs": [],
   "source": [
    "summary(model.netG, (3,256,256))"
   ]
  },
  {
   "cell_type": "code",
   "execution_count": null,
   "metadata": {},
   "outputs": [],
   "source": []
  },
  {
   "cell_type": "code",
   "execution_count": null,
   "metadata": {},
   "outputs": [],
   "source": []
  }
 ],
 "metadata": {
  "kernelspec": {
   "display_name": "Python 3",
   "language": "python",
   "name": "python3"
  },
  "language_info": {
   "codemirror_mode": {
    "name": "ipython",
    "version": 3
   },
   "file_extension": ".py",
   "mimetype": "text/x-python",
   "name": "python",
   "nbconvert_exporter": "python",
   "pygments_lexer": "ipython3",
   "version": "3.6.4"
  }
 },
 "nbformat": 4,
 "nbformat_minor": 2
}
